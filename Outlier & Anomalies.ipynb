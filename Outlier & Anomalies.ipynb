{
 "cells": [
  {
   "cell_type": "code",
   "execution_count": 1,
   "id": "f9c93eea-af15-4084-826c-74df23c03a09",
   "metadata": {},
   "outputs": [],
   "source": [
    "import pandas as pd\n",
    "import numpy as np\n",
    "import matplotlib.pyplot as plt\n",
    "import seaborn as sns"
   ]
  },
  {
   "cell_type": "code",
   "execution_count": 2,
   "id": "19662f52-55c7-4beb-a894-1e822441f5cb",
   "metadata": {},
   "outputs": [],
   "source": [
    "df = pd.read_csv('Titanic.csv')"
   ]
  },
  {
   "cell_type": "markdown",
   "id": "ee70aa95-8863-4603-8d7c-85148aa4259e",
   "metadata": {},
   "source": [
    "**Boxplot**"
   ]
  },
  {
   "cell_type": "code",
   "execution_count": 3,
   "id": "2e76a89b-0630-4def-af64-7f5eb44871e2",
   "metadata": {},
   "outputs": [
    {
     "data": {
      "image/png": "[encoded data removed]",
      "text/plain": [
       "<Figure size 640x480 with 1 Axes>"
      ]
     },
     "metadata": {},
     "output_type": "display_data"
    }
   ],
   "source": [
    "sns.boxplot(df['Age']);"
   ]
  },
  {
   "cell_type": "markdown",
   "id": "eebe4dbd-a6c8-4f0b-8bec-6eab8c8e4e25",
   "metadata": {},
   "source": [
    "**Outlier**"
   ]
  },
  {
   "cell_type": "code",
   "execution_count": 4,
   "id": "4a1042b1-4b41-4d02-8963-a9887a005877",
   "metadata": {},
   "outputs": [],
   "source": [
    "#create a new pandas series called df_age_notnull containing the values of the 'Age' column where the ge values are not not null\n",
    "\n",
    "df_age_notnull = df['Age'][df['Age'].notnull()]"
   ]
  },
  {
   "cell_type": "markdown",
   "id": "39023299-91a9-4abb-969e-e9b56ca08a24",
   "metadata": {},
   "source": [
    "Menemukan kuartil pertama dan kuartil ketiga"
   ]
  },
  {
   "cell_type": "code",
   "execution_count": 5,
   "id": "0a060764-480d-44cc-9cd0-c236ffad8d5e",
   "metadata": {},
   "outputs": [
    {
     "name": "stdout",
     "output_type": "stream",
     "text": [
      "20.125 38.0\n"
     ]
    }
   ],
   "source": [
    "q1, q3= np.percentile(df_age_notnull,[25,75])\n",
    "print(q1, q3)"
   ]
  },
  {
   "cell_type": "markdown",
   "id": "68d5d2c1-bc4b-4a36-9fbe-64b9e091f8e8",
   "metadata": {},
   "source": [
    "Temukan IQR yang merupakan selisih antara kuartil ketiga dan pertama"
   ]
  },
  {
   "cell_type": "code",
   "execution_count": 6,
   "id": "54d6bc00-a573-4c1d-941b-0e4d10e7a761",
   "metadata": {},
   "outputs": [
    {
     "name": "stdout",
     "output_type": "stream",
     "text": [
      "17.875\n"
     ]
    }
   ],
   "source": [
    "iqr = q3-q1\n",
    "print(iqr)"
   ]
  },
  {
   "cell_type": "markdown",
   "id": "64e6a2a4-c691-4c0e-b73a-6fa0bf33207a",
   "metadata": {},
   "source": [
    "Temukan batas bawah dan atas"
   ]
  },
  {
   "cell_type": "code",
   "execution_count": 7,
   "id": "8e2f25b3-b926-44b9-a40c-18188a5e7aba",
   "metadata": {},
   "outputs": [
    {
     "name": "stdout",
     "output_type": "stream",
     "text": [
      "-6.6875\n",
      "64.8125\n"
     ]
    }
   ],
   "source": [
    "lower_bound = q1 -(1.5 * iqr)\n",
    "upper_bound = q3 +(1.5 * iqr)\n",
    "\n",
    "print(lower_bound)\n",
    "print(upper_bound)"
   ]
  },
  {
   "cell_type": "code",
   "execution_count": null,
   "id": "d0df5a4c-3c87-4dc0-865a-539acc3c150d",
   "metadata": {},
   "outputs": [],
   "source": [
    "# handling outlier"
   ]
  },
  {
   "cell_type": "code",
   "execution_count": 8,
   "id": "315e7734-e748-4e6a-a47a-f088ac9101a7",
   "metadata": {},
   "outputs": [
    {
     "name": "stdout",
     "output_type": "stream",
     "text": [
      "0      22.0\n",
      "1      38.0\n",
      "2      26.0\n",
      "3      35.0\n",
      "4      35.0\n",
      "       ... \n",
      "885    39.0\n",
      "886    27.0\n",
      "887    19.0\n",
      "889    26.0\n",
      "890    32.0\n",
      "Name: Age, Length: 703, dtype: float64\n"
     ]
    }
   ],
   "source": [
    "df_age_new = df['Age'][(df['Age'] > lower_bound) & (df['Age'] < upper_bound)]\n",
    "print(df_age_new)"
   ]
  },
  {
   "cell_type": "code",
   "execution_count": 9,
   "id": "916531d5-f57f-4c70-8678-89c18865bc10",
   "metadata": {},
   "outputs": [
    {
     "data": {
      "text/plain": [
       "count    703.000000\n",
       "mean      29.072077\n",
       "std       13.728478\n",
       "min        0.420000\n",
       "25%       20.000000\n",
       "50%       28.000000\n",
       "75%       38.000000\n",
       "max       64.000000\n",
       "Name: Age, dtype: float64"
      ]
     },
     "execution_count": 9,
     "metadata": {},
     "output_type": "execute_result"
    }
   ],
   "source": [
    "df_age_new.describe()"
   ]
  }
 ],
 "metadata": {
  "kernelspec": {
   "display_name": "Python 3 (ipykernel)",
   "language": "python",
   "name": "python3"
  },
  "language_info": {
   "codemirror_mode": {
    "name": "ipython",
    "version": 3
   },
   "file_extension": ".py",
   "mimetype": "text/x-python",
   "name": "python",
   "nbconvert_exporter": "python",
   "pygments_lexer": "ipython3",
   "version": "3.11.7"
  }
 },
 "nbformat": 4,
 "nbformat_minor": 5
}
