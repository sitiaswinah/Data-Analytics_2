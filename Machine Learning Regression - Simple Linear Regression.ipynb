{
 "cells": [
  {
   "cell_type": "markdown",
   "id": "a3e2dec2-25a5-4011-a397-e38a53d486fb",
   "metadata": {},
   "source": [
    "# Machine Learning Regression - Simple Linear Regression"
   ]
  },
  {
   "cell_type": "markdown",
   "id": "6036ab3d-82ba-429c-9db9-f03bd8d6ae0d",
   "metadata": {},
   "source": [
    "**Data Fropiling**"
   ]
  },
  {
   "cell_type": "markdown",
   "id": "eab10819-b421-4769-9531-a2f436fbd08c",
   "metadata": {},
   "source": [
    "import packagest"
   ]
  },
  {
   "cell_type": "code",
   "execution_count": 13,
   "id": "3d57e52e-221c-4dcd-a971-d13355a612c5",
   "metadata": {},
   "outputs": [],
   "source": [
    "import pandas as pd\n",
    "import numpy as np\n",
    "import matplotlib.pyplot as plt\n",
    "import seaborn as sns\n",
    "from sklearn.linear_model import LinearRegression\n",
    "from sklearn.model_selection import train_test_split\n",
    "from sklearn.preprocessing import StandardScaler\n",
    "from sklearn.preprocessing import MinMaxScaler\n",
    "from sklearn.metrics import mean_absolute_error\n",
    "from sklearn.metrics import mean_absolute_percentage_error\n",
    "from sklearn.metrics import mean_absolute_error, mean_absolute_percentage_error, mean_squared_error, r2_score\n",
    "\n",
    "import warnings\n",
    "warnings.filterwarnings('ignore')"
   ]
  },
  {
   "cell_type": "markdown",
   "id": "459fc4c6-55fb-437b-8181-99f73cd537e6",
   "metadata": {},
   "source": [
    "load dataset"
   ]
  },
  {
   "cell_type": "code",
   "execution_count": 14,
   "id": "1d713037-6a0b-4717-80fe-5a095a4717df",
   "metadata": {},
   "outputs": [],
   "source": [
    "df = pd.read_csv('Salary_Data.csv')"
   ]
  },
  {
   "cell_type": "markdown",
   "id": "97896b6a-904a-4c77-8cf5-1c241af40c16",
   "metadata": {},
   "source": [
    "preview dataset"
   ]
  },
  {
   "cell_type": "code",
   "execution_count": 15,
   "id": "21ce9962-6014-41bc-9f65-e1fda2c0d16f",
   "metadata": {},
   "outputs": [
    {
     "data": {
      "text/html": [
       "<div>\n",
       "<style scoped>\n",
       "    .dataframe tbody tr th:only-of-type {\n",
       "        vertical-align: middle;\n",
       "    }\n",
       "\n",
       "    .dataframe tbody tr th {\n",
       "        vertical-align: top;\n",
       "    }\n",
       "\n",
       "    .dataframe thead th {\n",
       "        text-align: right;\n",
       "    }\n",
       "</style>\n",
       "<table border=\"1\" class=\"dataframe\">\n",
       "  <thead>\n",
       "    <tr style=\"text-align: right;\">\n",
       "      <th></th>\n",
       "      <th>YearsExperience</th>\n",
       "      <th>Salary</th>\n",
       "    </tr>\n",
       "  </thead>\n",
       "  <tbody>\n",
       "    <tr>\n",
       "      <th>0</th>\n",
       "      <td>1.1</td>\n",
       "      <td>39343.0</td>\n",
       "    </tr>\n",
       "    <tr>\n",
       "      <th>1</th>\n",
       "      <td>1.3</td>\n",
       "      <td>46205.0</td>\n",
       "    </tr>\n",
       "    <tr>\n",
       "      <th>2</th>\n",
       "      <td>1.5</td>\n",
       "      <td>37731.0</td>\n",
       "    </tr>\n",
       "    <tr>\n",
       "      <th>3</th>\n",
       "      <td>2.0</td>\n",
       "      <td>43525.0</td>\n",
       "    </tr>\n",
       "    <tr>\n",
       "      <th>4</th>\n",
       "      <td>2.2</td>\n",
       "      <td>39891.0</td>\n",
       "    </tr>\n",
       "  </tbody>\n",
       "</table>\n",
       "</div>"
      ],
      "text/plain": [
       "   YearsExperience   Salary\n",
       "0              1.1  39343.0\n",
       "1              1.3  46205.0\n",
       "2              1.5  37731.0\n",
       "3              2.0  43525.0\n",
       "4              2.2  39891.0"
      ]
     },
     "execution_count": 15,
     "metadata": {},
     "output_type": "execute_result"
    }
   ],
   "source": [
    "df.head()"
   ]
  },
  {
   "cell_type": "markdown",
   "id": "de2ea5d5-ced0-4e10-9312-c555d13f453e",
   "metadata": {},
   "source": [
    "info dataset"
   ]
  },
  {
   "cell_type": "code",
   "execution_count": 16,
   "id": "85b5b543-8998-4541-bbcb-a89480c4c4c9",
   "metadata": {},
   "outputs": [
    {
     "name": "stdout",
     "output_type": "stream",
     "text": [
      "<class 'pandas.core.frame.DataFrame'>\n",
      "RangeIndex: 30 entries, 0 to 29\n",
      "Data columns (total 2 columns):\n",
      " #   Column           Non-Null Count  Dtype  \n",
      "---  ------           --------------  -----  \n",
      " 0   YearsExperience  30 non-null     float64\n",
      " 1   Salary           30 non-null     float64\n",
      "dtypes: float64(2)\n",
      "memory usage: 612.0 bytes\n"
     ]
    }
   ],
   "source": [
    "df.info()"
   ]
  },
  {
   "cell_type": "markdown",
   "id": "45af709f-6544-40ed-9aa6-7ab8910ea0df",
   "metadata": {},
   "source": [
    "check missing value"
   ]
  },
  {
   "cell_type": "code",
   "execution_count": 17,
   "id": "36493173-50b7-49fe-87a9-6f0eccb9c67a",
   "metadata": {},
   "outputs": [
    {
     "data": {
      "text/plain": [
       "YearsExperience    0\n",
       "Salary             0\n",
       "dtype: int64"
      ]
     },
     "execution_count": 17,
     "metadata": {},
     "output_type": "execute_result"
    }
   ],
   "source": [
    "df.isna().sum()"
   ]
  },
  {
   "cell_type": "markdown",
   "id": "9e9fc9ab-6369-43b0-9e74-b6ddd7e4b3a4",
   "metadata": {},
   "source": [
    "# Data Cleansing"
   ]
  },
  {
   "cell_type": "markdown",
   "id": "2d16c700-8daa-47af-b9ef-2ffdbef137bd",
   "metadata": {},
   "source": [
    "Data sudah bersih"
   ]
  },
  {
   "cell_type": "markdown",
   "id": "f1d6711a-76b7-4a1c-926a-4116d967d6ab",
   "metadata": {},
   "source": [
    "# Eksploratory Data Analysis"
   ]
  },
  {
   "cell_type": "code",
   "execution_count": 18,
   "id": "7712f044-e5b2-4906-9e89-2979d3c78a49",
   "metadata": {},
   "outputs": [
    {
     "data": {
      "text/html": [
       "<div>\n",
       "<style scoped>\n",
       "    .dataframe tbody tr th:only-of-type {\n",
       "        vertical-align: middle;\n",
       "    }\n",
       "\n",
       "    .dataframe tbody tr th {\n",
       "        vertical-align: top;\n",
       "    }\n",
       "\n",
       "    .dataframe thead th {\n",
       "        text-align: right;\n",
       "    }\n",
       "</style>\n",
       "<table border=\"1\" class=\"dataframe\">\n",
       "  <thead>\n",
       "    <tr style=\"text-align: right;\">\n",
       "      <th></th>\n",
       "      <th>YearsExperience</th>\n",
       "      <th>Salary</th>\n",
       "    </tr>\n",
       "  </thead>\n",
       "  <tbody>\n",
       "    <tr>\n",
       "      <th>count</th>\n",
       "      <td>30.000000</td>\n",
       "      <td>30.000000</td>\n",
       "    </tr>\n",
       "    <tr>\n",
       "      <th>mean</th>\n",
       "      <td>5.313333</td>\n",
       "      <td>76003.000000</td>\n",
       "    </tr>\n",
       "    <tr>\n",
       "      <th>std</th>\n",
       "      <td>2.837888</td>\n",
       "      <td>27414.429785</td>\n",
       "    </tr>\n",
       "    <tr>\n",
       "      <th>min</th>\n",
       "      <td>1.100000</td>\n",
       "      <td>37731.000000</td>\n",
       "    </tr>\n",
       "    <tr>\n",
       "      <th>25%</th>\n",
       "      <td>3.200000</td>\n",
       "      <td>56720.750000</td>\n",
       "    </tr>\n",
       "    <tr>\n",
       "      <th>50%</th>\n",
       "      <td>4.700000</td>\n",
       "      <td>65237.000000</td>\n",
       "    </tr>\n",
       "    <tr>\n",
       "      <th>75%</th>\n",
       "      <td>7.700000</td>\n",
       "      <td>100544.750000</td>\n",
       "    </tr>\n",
       "    <tr>\n",
       "      <th>max</th>\n",
       "      <td>10.500000</td>\n",
       "      <td>122391.000000</td>\n",
       "    </tr>\n",
       "  </tbody>\n",
       "</table>\n",
       "</div>"
      ],
      "text/plain": [
       "       YearsExperience         Salary\n",
       "count        30.000000      30.000000\n",
       "mean          5.313333   76003.000000\n",
       "std           2.837888   27414.429785\n",
       "min           1.100000   37731.000000\n",
       "25%           3.200000   56720.750000\n",
       "50%           4.700000   65237.000000\n",
       "75%           7.700000  100544.750000\n",
       "max          10.500000  122391.000000"
      ]
     },
     "execution_count": 18,
     "metadata": {},
     "output_type": "execute_result"
    }
   ],
   "source": [
    "df.describe()"
   ]
  },
  {
   "cell_type": "code",
   "execution_count": 19,
   "id": "224efde9-52a3-4307-9f10-4d0fd7819847",
   "metadata": {},
   "outputs": [
    {
     "data": {
      "image/png": "[encoded data removed]",
      "text/plain": [
       "<Figure size 640x480 with 1 Axes>"
      ]
     },
     "metadata": {},
     "output_type": "display_data"
    }
   ],
   "source": [
    "sns.distplot(df['YearsExperience']);"
   ]
  },
  {
   "cell_type": "code",
   "execution_count": 20,
   "id": "5919394d-cb27-481d-9393-6c67613af808",
   "metadata": {},
   "outputs": [
    {
     "data": {
      "image/png": "[encoded data removed]",
      "text/plain": [
       "<Figure size 640x480 with 1 Axes>"
      ]
     },
     "metadata": {},
     "output_type": "display_data"
    }
   ],
   "source": [
    "sns.distplot(df['Salary']);"
   ]
  },
  {
   "cell_type": "markdown",
   "id": "d21c776b-76a6-4df3-8303-ec5f51ac46d4",
   "metadata": {},
   "source": [
    "# Preprocessing modeling"
   ]
  },
  {
   "cell_type": "code",
   "execution_count": 21,
   "id": "46e7dfea-da98-4639-98db-49c857d39a73",
   "metadata": {},
   "outputs": [],
   "source": [
    "x = df.drop(['Salary'],axis=1)\n",
    "y = df['Salary']"
   ]
  },
  {
   "cell_type": "markdown",
   "id": "80a3d321-92d8-4be4-814c-0141f6c7de7f",
   "metadata": {},
   "source": [
    "- Spliting Training and Test Set"
   ]
  },
  {
   "cell_type": "code",
   "execution_count": 22,
   "id": "95a66864-0c2c-4a83-9c16-252fc117a5ca",
   "metadata": {},
   "outputs": [],
   "source": [
    "x_train, x_test, y_train, y_test = train_test_split(x, y, train_size = 1/3, random_state = 42)"
   ]
  },
  {
   "cell_type": "markdown",
   "id": "5c7a59b4-2abb-4460-8af4-af61ab84cacb",
   "metadata": {},
   "source": [
    "# Machine Learning Regression - Simple Linear Regression"
   ]
  },
  {
   "cell_type": "markdown",
   "id": "76b60e81-f20b-4106-8ca5-c301821f79cf",
   "metadata": {},
   "source": [
    "- Fitting into Training"
   ]
  },
  {
   "cell_type": "code",
   "execution_count": 23,
   "id": "d50226ec-c4f2-4c7b-bd5e-9106ade5ae1c",
   "metadata": {},
   "outputs": [],
   "source": [
    "regressor = LinearRegression()"
   ]
  },
  {
   "cell_type": "code",
   "execution_count": 24,
   "id": "2042b5c8-126e-485d-837b-3a777006e42e",
   "metadata": {},
   "outputs": [
    {
     "data": {
      "text/html": [
       "<style>#sk-container-id-1 {color: black;background-color: white;}#sk-container-id-1 pre{padding: 0;}#sk-container-id-1 div.sk-toggleable {background-color: white;}#sk-container-id-1 label.sk-toggleable__label {cursor: pointer;display: block;width: 100%;margin-bottom: 0;padding: 0.3em;box-sizing: border-box;text-align: center;}#sk-container-id-1 label.sk-toggleable__label-arrow:before {content: \"▸\";float: left;margin-right: 0.25em;color: #696969;}#sk-container-id-1 label.sk-toggleable__label-arrow:hover:before {color: black;}#sk-container-id-1 div.sk-estimator:hover label.sk-toggleable__label-arrow:before {color: black;}#sk-container-id-1 div.sk-toggleable__content {max-height: 0;max-width: 0;overflow: hidden;text-align: left;background-color: #f0f8ff;}#sk-container-id-1 div.sk-toggleable__content pre {margin: 0.2em;color: black;border-radius: 0.25em;background-color: #f0f8ff;}#sk-container-id-1 input.sk-toggleable__control:checked~div.sk-toggleable__content {max-height: 200px;max-width: 100%;overflow: auto;}#sk-container-id-1 input.sk-toggleable__control:checked~label.sk-toggleable__label-arrow:before {content: \"▾\";}#sk-container-id-1 div.sk-estimator input.sk-toggleable__control:checked~label.sk-toggleable__label {background-color: #d4ebff;}#sk-container-id-1 div.sk-label input.sk-toggleable__control:checked~label.sk-toggleable__label {background-color: #d4ebff;}#sk-container-id-1 input.sk-hidden--visually {border: 0;clip: rect(1px 1px 1px 1px);clip: rect(1px, 1px, 1px, 1px);height: 1px;margin: -1px;overflow: hidden;padding: 0;position: absolute;width: 1px;}#sk-container-id-1 div.sk-estimator {font-family: monospace;background-color: #f0f8ff;border: 1px dotted black;border-radius: 0.25em;box-sizing: border-box;margin-bottom: 0.5em;}#sk-container-id-1 div.sk-estimator:hover {background-color: #d4ebff;}#sk-container-id-1 div.sk-parallel-item::after {content: \"\";width: 100%;border-bottom: 1px solid gray;flex-grow: 1;}#sk-container-id-1 div.sk-label:hover label.sk-toggleable__label {background-color: #d4ebff;}#sk-container-id-1 div.sk-serial::before {content: \"\";position: absolute;border-left: 1px solid gray;box-sizing: border-box;top: 0;bottom: 0;left: 50%;z-index: 0;}#sk-container-id-1 div.sk-serial {display: flex;flex-direction: column;align-items: center;background-color: white;padding-right: 0.2em;padding-left: 0.2em;position: relative;}#sk-container-id-1 div.sk-item {position: relative;z-index: 1;}#sk-container-id-1 div.sk-parallel {display: flex;align-items: stretch;justify-content: center;background-color: white;position: relative;}#sk-container-id-1 div.sk-item::before, #sk-container-id-1 div.sk-parallel-item::before {content: \"\";position: absolute;border-left: 1px solid gray;box-sizing: border-box;top: 0;bottom: 0;left: 50%;z-index: -1;}#sk-container-id-1 div.sk-parallel-item {display: flex;flex-direction: column;z-index: 1;position: relative;background-color: white;}#sk-container-id-1 div.sk-parallel-item:first-child::after {align-self: flex-end;width: 50%;}#sk-container-id-1 div.sk-parallel-item:last-child::after {align-self: flex-start;width: 50%;}#sk-container-id-1 div.sk-parallel-item:only-child::after {width: 0;}#sk-container-id-1 div.sk-dashed-wrapped {border: 1px dashed gray;margin: 0 0.4em 0.5em 0.4em;box-sizing: border-box;padding-bottom: 0.4em;background-color: white;}#sk-container-id-1 div.sk-label label {font-family: monospace;font-weight: bold;display: inline-block;line-height: 1.2em;}#sk-container-id-1 div.sk-label-container {text-align: center;}#sk-container-id-1 div.sk-container {/* jupyter's `normalize.less` sets `[hidden] { display: none; }` but bootstrap.min.css set `[hidden] { display: none !important; }` so we also need the `!important` here to be able to override the default hidden behavior on the sphinx rendered scikit-learn.org. See: https://github.com/scikit-learn/scikit-learn/issues/21755 */display: inline-block !important;position: relative;}#sk-container-id-1 div.sk-text-repr-fallback {display: none;}</style><div id=\"sk-container-id-1\" class=\"sk-top-container\"><div class=\"sk-text-repr-fallback\"><pre>LinearRegression()</pre><b>In a Jupyter environment, please rerun this cell to show the HTML representation or trust the notebook. <br />On GitHub, the HTML representation is unable to render, please try loading this page with nbviewer.org.</b></div><div class=\"sk-container\" hidden><div class=\"sk-item\"><div class=\"sk-estimator sk-toggleable\"><input class=\"sk-toggleable__control sk-hidden--visually\" id=\"sk-estimator-id-1\" type=\"checkbox\" checked><label for=\"sk-estimator-id-1\" class=\"sk-toggleable__label sk-toggleable__label-arrow\">LinearRegression</label><div class=\"sk-toggleable__content\"><pre>LinearRegression()</pre></div></div></div></div></div>"
      ],
      "text/plain": [
       "LinearRegression()"
      ]
     },
     "execution_count": 24,
     "metadata": {},
     "output_type": "execute_result"
    }
   ],
   "source": [
    "regressor.fit(x_train, y_train)"
   ]
  },
  {
   "cell_type": "code",
   "execution_count": 25,
   "id": "118b8977-b0f2-4009-9edb-6b59d1c36e3d",
   "metadata": {},
   "outputs": [
    {
     "data": {
      "text/plain": [
       "array([9337.63985893])"
      ]
     },
     "execution_count": 25,
     "metadata": {},
     "output_type": "execute_result"
    }
   ],
   "source": [
    "regressor.coef_"
   ]
  },
  {
   "cell_type": "markdown",
   "id": "27050747-78a7-4a60-a209-98937d20d483",
   "metadata": {},
   "source": [
    "- Predict the Result"
   ]
  },
  {
   "cell_type": "code",
   "execution_count": 26,
   "id": "b8eb81f0-49a8-478f-9643-b166e9a1998b",
   "metadata": {},
   "outputs": [],
   "source": [
    "y_pred = regressor.predict(x_test)"
   ]
  },
  {
   "cell_type": "markdown",
   "id": "bc7fe7c5-65cc-4f5f-af9b-450b2374a87b",
   "metadata": {},
   "source": [
    "- Plot the Result"
   ]
  },
  {
   "cell_type": "code",
   "execution_count": 27,
   "id": "aac2f31d-34d8-4fe2-ae88-aac8035e467e",
   "metadata": {},
   "outputs": [],
   "source": [
    "result = pd.DataFrame({'Actual':y_test, 'Predict':y_pred})"
   ]
  },
  {
   "cell_type": "code",
   "execution_count": 28,
   "id": "f5b7e724-d043-44be-bd63-51c857d1a5b9",
   "metadata": {},
   "outputs": [
    {
     "data": {
      "text/html": [
       "<div>\n",
       "<style scoped>\n",
       "    .dataframe tbody tr th:only-of-type {\n",
       "        vertical-align: middle;\n",
       "    }\n",
       "\n",
       "    .dataframe tbody tr th {\n",
       "        vertical-align: top;\n",
       "    }\n",
       "\n",
       "    .dataframe thead th {\n",
       "        text-align: right;\n",
       "    }\n",
       "</style>\n",
       "<table border=\"1\" class=\"dataframe\">\n",
       "  <thead>\n",
       "    <tr style=\"text-align: right;\">\n",
       "      <th></th>\n",
       "      <th>Actual</th>\n",
       "      <th>Predict</th>\n",
       "    </tr>\n",
       "  </thead>\n",
       "  <tbody>\n",
       "    <tr>\n",
       "      <th>27</th>\n",
       "      <td>112635.0</td>\n",
       "      <td>117549.897898</td>\n",
       "    </tr>\n",
       "    <tr>\n",
       "      <th>15</th>\n",
       "      <td>67938.0</td>\n",
       "      <td>73662.990561</td>\n",
       "    </tr>\n",
       "    <tr>\n",
       "      <th>23</th>\n",
       "      <td>113812.0</td>\n",
       "      <td>104477.202095</td>\n",
       "    </tr>\n",
       "    <tr>\n",
       "      <th>17</th>\n",
       "      <td>83088.0</td>\n",
       "      <td>77398.046504</td>\n",
       "    </tr>\n",
       "    <tr>\n",
       "      <th>8</th>\n",
       "      <td>64445.0</td>\n",
       "      <td>57789.002801</td>\n",
       "    </tr>\n",
       "    <tr>\n",
       "      <th>9</th>\n",
       "      <td>57189.0</td>\n",
       "      <td>62457.822730</td>\n",
       "    </tr>\n",
       "    <tr>\n",
       "      <th>28</th>\n",
       "      <td>122391.0</td>\n",
       "      <td>124086.245799</td>\n",
       "    </tr>\n",
       "    <tr>\n",
       "      <th>24</th>\n",
       "      <td>109431.0</td>\n",
       "      <td>109146.022025</td>\n",
       "    </tr>\n",
       "    <tr>\n",
       "      <th>12</th>\n",
       "      <td>56957.0</td>\n",
       "      <td>65259.114688</td>\n",
       "    </tr>\n",
       "    <tr>\n",
       "      <th>0</th>\n",
       "      <td>39343.0</td>\n",
       "      <td>38179.959097</td>\n",
       "    </tr>\n",
       "    <tr>\n",
       "      <th>4</th>\n",
       "      <td>39891.0</td>\n",
       "      <td>48451.362942</td>\n",
       "    </tr>\n",
       "    <tr>\n",
       "      <th>16</th>\n",
       "      <td>66029.0</td>\n",
       "      <td>75530.518533</td>\n",
       "    </tr>\n",
       "    <tr>\n",
       "      <th>5</th>\n",
       "      <td>56642.0</td>\n",
       "      <td>54987.710843</td>\n",
       "    </tr>\n",
       "    <tr>\n",
       "      <th>13</th>\n",
       "      <td>57081.0</td>\n",
       "      <td>66192.878674</td>\n",
       "    </tr>\n",
       "    <tr>\n",
       "      <th>11</th>\n",
       "      <td>55794.0</td>\n",
       "      <td>65259.114688</td>\n",
       "    </tr>\n",
       "    <tr>\n",
       "      <th>22</th>\n",
       "      <td>101302.0</td>\n",
       "      <td>101675.910138</td>\n",
       "    </tr>\n",
       "    <tr>\n",
       "      <th>1</th>\n",
       "      <td>46205.0</td>\n",
       "      <td>40047.487069</td>\n",
       "    </tr>\n",
       "    <tr>\n",
       "      <th>2</th>\n",
       "      <td>37731.0</td>\n",
       "      <td>41915.015040</td>\n",
       "    </tr>\n",
       "    <tr>\n",
       "      <th>25</th>\n",
       "      <td>105582.0</td>\n",
       "      <td>111947.313982</td>\n",
       "    </tr>\n",
       "    <tr>\n",
       "      <th>3</th>\n",
       "      <td>43525.0</td>\n",
       "      <td>46583.834970</td>\n",
       "    </tr>\n",
       "  </tbody>\n",
       "</table>\n",
       "</div>"
      ],
      "text/plain": [
       "      Actual        Predict\n",
       "27  112635.0  117549.897898\n",
       "15   67938.0   73662.990561\n",
       "23  113812.0  104477.202095\n",
       "17   83088.0   77398.046504\n",
       "8    64445.0   57789.002801\n",
       "9    57189.0   62457.822730\n",
       "28  122391.0  124086.245799\n",
       "24  109431.0  109146.022025\n",
       "12   56957.0   65259.114688\n",
       "0    39343.0   38179.959097\n",
       "4    39891.0   48451.362942\n",
       "16   66029.0   75530.518533\n",
       "5    56642.0   54987.710843\n",
       "13   57081.0   66192.878674\n",
       "11   55794.0   65259.114688\n",
       "22  101302.0  101675.910138\n",
       "1    46205.0   40047.487069\n",
       "2    37731.0   41915.015040\n",
       "25  105582.0  111947.313982\n",
       "3    43525.0   46583.834970"
      ]
     },
     "execution_count": 28,
     "metadata": {},
     "output_type": "execute_result"
    }
   ],
   "source": [
    "result"
   ]
  },
  {
   "cell_type": "code",
   "execution_count": 29,
   "id": "52a8dc13-d8d4-4837-83d3-15f5644756ab",
   "metadata": {},
   "outputs": [
    {
     "data": {
      "image/png": "[encoded data removed]",
      "text/plain": [
       "<Figure size 1000x800 with 1 Axes>"
      ]
     },
     "metadata": {},
     "output_type": "display_data"
    }
   ],
   "source": [
    "result.plot(kind = 'bar', figsize = (10,8))\n",
    "\n",
    "plt.show()"
   ]
  },
  {
   "cell_type": "code",
   "execution_count": 30,
   "id": "8f08d6f6-714d-446e-81b0-df073081097b",
   "metadata": {},
   "outputs": [
    {
     "data": {
      "image/png": "[encoded data removed]",
      "text/plain": [
       "<Figure size 640x480 with 1 Axes>"
      ]
     },
     "metadata": {},
     "output_type": "display_data"
    }
   ],
   "source": [
    "plt.scatter(x_train, y_train, color='red')\n",
    "\n",
    "plt.plot(x_test.values, y_pred, color='blue')\n",
    "\n",
    "plt.show()"
   ]
  },
  {
   "cell_type": "markdown",
   "id": "d67e1982-6e6e-40f4-b619-f7f2f7acf2da",
   "metadata": {},
   "source": [
    "# Evaluate Model"
   ]
  },
  {
   "cell_type": "code",
   "execution_count": 31,
   "id": "8b359628-566d-4d21-b1f9-e446cbf75d54",
   "metadata": {},
   "outputs": [
    {
     "data": {
      "text/plain": [
       "6189.046433884711"
      ]
     },
     "execution_count": 31,
     "metadata": {},
     "output_type": "execute_result"
    }
   ],
   "source": [
    "np.sqrt(mean_squared_error(y_test, y_pred))"
   ]
  },
  {
   "cell_type": "code",
   "execution_count": 32,
   "id": "5fce02a5-9cde-4dad-938d-a5463f43a804",
   "metadata": {},
   "outputs": [
    {
     "data": {
      "text/plain": [
       "5373.379510407303"
      ]
     },
     "execution_count": 32,
     "metadata": {},
     "output_type": "execute_result"
    }
   ],
   "source": [
    "mean_absolute_error(y_test, y_pred)"
   ]
  },
  {
   "cell_type": "code",
   "execution_count": 34,
   "id": "7173ac1c-d693-41d6-bcc2-35b52af31026",
   "metadata": {},
   "outputs": [
    {
     "data": {
      "text/plain": [
       "0.08804898617394867"
      ]
     },
     "execution_count": 34,
     "metadata": {},
     "output_type": "execute_result"
    }
   ],
   "source": [
    "mean_absolute_percentage_error(y_test, y_pred)"
   ]
  },
  {
   "cell_type": "code",
   "execution_count": 35,
   "id": "03f7846b-8baa-4d9b-895e-f4fff68557e8",
   "metadata": {},
   "outputs": [
    {
     "data": {
      "text/plain": [
       "0.9504877087663546"
      ]
     },
     "execution_count": 35,
     "metadata": {},
     "output_type": "execute_result"
    }
   ],
   "source": [
    "r2_score(y_test, y_pred)"
   ]
  }
 ],
 "metadata": {
  "kernelspec": {
   "display_name": "Python 3 (ipykernel)",
   "language": "python",
   "name": "python3"
  },
  "language_info": {
   "codemirror_mode": {
    "name": "ipython",
    "version": 3
   },
   "file_extension": ".py",
   "mimetype": "text/x-python",
   "name": "python",
   "nbconvert_exporter": "python",
   "pygments_lexer": "ipython3",
   "version": "3.11.7"
  }
 },
 "nbformat": 4,
 "nbformat_minor": 5
}
